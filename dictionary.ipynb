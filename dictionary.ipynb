{
 "cells": [
  {
   "cell_type": "code",
   "execution_count": 2,
   "metadata": {},
   "outputs": [
    {
     "name": "stdout",
     "output_type": "stream",
     "text": [
      "{'English': 56, 'Maths': 34, 'Hindi': 90, 'EVS': 34, 'GK': 56}\n"
     ]
    }
   ],
   "source": [
    "raju=[56,90,34,34,56]\n",
    "raju_dict={\n",
    "    'English':56,\n",
    "    'Maths':34,\n",
    "    'Hindi':90,\n",
    "    'EVS':34,\n",
    "    'GK':56\n",
    "}\n",
    "print(raju_dict)\n"
   ]
  },
  {
   "cell_type": "code",
   "execution_count": 4,
   "metadata": {},
   "outputs": [],
   "source": [
    "Company={\n",
    "    'emp01':{\n",
    "        'name': \"Amar Kumar\",\n",
    "        'designation':\"clerk\",\n",
    "        'salary':32000,\n",
    "    },\n",
    "   'emp02':{\n",
    "        'name': \"Aman Verma\",\n",
    "        'designation':\"Ass.clerk\",\n",
    "        'salary':30205,\n",
    "   },\n",
    "   'total_emp':2,\n",
    "   'department':'Account',\n",
    "   'vacancy':['manager','ass_manager','assistant']\n",
    "}"
   ]
  },
  {
   "cell_type": "code",
   "execution_count": 13,
   "metadata": {},
   "outputs": [
    {
     "name": "stdout",
     "output_type": "stream",
     "text": [
      "{'name': 'X.inc'}\n"
     ]
    }
   ],
   "source": [
    "company['name'] = 'X.inc'\n",
    "\n",
    "print(company)\n"
   ]
  },
  {
   "cell_type": "code",
   "execution_count": 19,
   "metadata": {},
   "outputs": [],
   "source": [
    "company['total_emp']=3\n",
    "company['emp03']={\n",
    "     'name': \"Ajay Verma\",\n",
    "        'designation':\"tester\",\n",
    "        'salary':25000,\n",
    "}"
   ]
  },
  {
   "cell_type": "code",
   "execution_count": 20,
   "metadata": {},
   "outputs": [],
   "source": [
    "#company['emp04']\n",
    "company.get('website')"
   ]
  },
  {
   "cell_type": "code",
   "execution_count": 21,
   "metadata": {},
   "outputs": [],
   "source": [
    "if 'website' in company:\n",
    "    print('website exists in dict')"
   ]
  },
  {
   "cell_type": "code",
   "execution_count": 22,
   "metadata": {},
   "outputs": [
    {
     "name": "stdout",
     "output_type": "stream",
     "text": [
      "dict_keys(['name', 'total_emp', 'emp03'])\n",
      "dict_values(['X.inc', 3, {'name': 'Ajay Verma', 'designation': 'tester', 'salary': 25000}])\n"
     ]
    }
   ],
   "source": [
    "print(company.keys())\n",
    "print(company.values())"
   ]
  },
  {
   "cell_type": "code",
   "execution_count": 23,
   "metadata": {},
   "outputs": [
    {
     "name": "stdout",
     "output_type": "stream",
     "text": [
      "dict_items([('name', 'X.inc'), ('total_emp', 3), ('emp03', {'name': 'Ajay Verma', 'designation': 'tester', 'salary': 25000})])\n"
     ]
    }
   ],
   "source": [
    "print(company.items())"
   ]
  },
  {
   "cell_type": "code",
   "execution_count": 28,
   "metadata": {},
   "outputs": [
    {
     "name": "stdout",
     "output_type": "stream",
     "text": [
      "name X.inc\n",
      "total_emp 3\n",
      "emp03 {'name': 'Ajay Verma', 'designation': 'tester', 'salary': 25000}\n"
     ]
    }
   ],
   "source": [
    "for i in company :\n",
    "    print(i,company[i])"
   ]
  },
  {
   "cell_type": "code",
   "execution_count": 33,
   "metadata": {},
   "outputs": [
    {
     "name": "stdout",
     "output_type": "stream",
     "text": [
      "name X.inc\n",
      "total_emp 3\n",
      "---> name Ajay Verma\n",
      "---> designation tester\n",
      "---> salary 25000\n"
     ]
    }
   ],
   "source": [
    "for k,v in company.items():\n",
    "    if isinstance(v,dict):\n",
    "       for key,value in v.items():\n",
    "        print(\"--->\",key,value)\n",
    "    else:\n",
    "       print(k,v)"
   ]
  },
  {
   "cell_type": "code",
   "execution_count": null,
   "metadata": {},
   "outputs": [],
   "source": [
    "##wap to create a dictionary take user input for its item and user can store unlimited items."
   ]
  },
  {
   "cell_type": "code",
   "execution_count": null,
   "metadata": {},
   "outputs": [],
   "source": [
    "my_dict = {}\n",
    "\n",
    "def add_item_to_dict():\n",
    "    while True:\n",
    "        key = input(\"Enter the key for the item (or 'exit' to stop): \")\n",
    "        if key.lower() == 'exit':\n",
    "            break\n",
    "        value = input(\"Enter the value for the item: \")\n",
    "        my_dict[key] = value\n",
    "\n",
    "add_item_to_dict()\n",
    "\n",
    "print(\"Final Dictionary:\")\n",
    "print(my_dict)\n"
   ]
  },
  {
   "cell_type": "code",
   "execution_count": null,
   "metadata": {},
   "outputs": [],
   "source": []
  }
 ],
 "metadata": {
  "kernelspec": {
   "display_name": "base",
   "language": "python",
   "name": "python3"
  },
  "language_info": {
   "codemirror_mode": {
    "name": "ipython",
    "version": 3
   },
   "file_extension": ".py",
   "mimetype": "text/x-python",
   "name": "python",
   "nbconvert_exporter": "python",
   "pygments_lexer": "ipython3",
   "version": "3.10.10"
  },
  "orig_nbformat": 4
 },
 "nbformat": 4,
 "nbformat_minor": 2
}
