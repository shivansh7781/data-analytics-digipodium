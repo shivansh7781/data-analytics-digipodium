{
 "cells": [
  {
   "cell_type": "markdown",
   "metadata": {},
   "source": [
    "# A simple test for the sake of learning some python"
   ]
  },
  {
   "cell_type": "markdown",
   "metadata": {},
   "source": [
    "### Question:\n",
    "Given a list `numbers = [1, 2, 3, 4, 5]`, write Python code to append the number 6 to the end of the list."
   ]
  },
  {
   "cell_type": "code",
   "execution_count": 1,
   "metadata": {},
   "outputs": [
    {
     "name": "stdout",
     "output_type": "stream",
     "text": [
      "[1, 2, 3, 4, 5, 6]\n"
     ]
    }
   ],
   "source": [
    "numbers = [1, 2, 3, 4, 5]\n",
    "numbers.append(6)\n",
    "print(numbers)\n"
   ]
  },
  {
   "cell_type": "markdown",
   "metadata": {},
   "source": [
    "### Question:\n",
    "Suppose you have a list `fruits = ['apple', 'banana', 'orange', 'grape']`. Write Python code to remove the element 'orange' from the list.\n"
   ]
  },
  {
   "cell_type": "code",
   "execution_count": 2,
   "metadata": {},
   "outputs": [
    {
     "name": "stdout",
     "output_type": "stream",
     "text": [
      "['apple', 'banana', 'grape']\n"
     ]
    }
   ],
   "source": [
    "fruits = ['apple', 'banana', 'orange', 'grape']\n",
    "fruits.remove('orange')\n",
    "print(fruits)\n"
   ]
  },
  {
   "cell_type": "markdown",
   "metadata": {},
   "source": [
    "### Question:\n",
    "Write a Python code that takes a list of integers as input and returns a new list with only the even numbers from the original list."
   ]
  },
  {
   "cell_type": "code",
   "execution_count": 3,
   "metadata": {},
   "outputs": [
    {
     "name": "stdout",
     "output_type": "stream",
     "text": [
      "[2, 4, 6, 8, 10]\n"
     ]
    }
   ],
   "source": [
    "x = [1, 2, 3, 4, 5, 6, 7, 8, 9, 10]\n",
    "xevens = [i for i in x if i % 2 == 0]\n",
    "print(xevens)\n"
   ]
  },
  {
   "cell_type": "markdown",
   "metadata": {},
   "source": [
    "### Question:\n",
    "Given two lists `list1 = [1, 2, 3]` and `list2 = [4, 5, 6]`, write Python code to combine these two lists and create a new list."
   ]
  },
  {
   "cell_type": "code",
   "execution_count": 4,
   "metadata": {},
   "outputs": [
    {
     "name": "stdout",
     "output_type": "stream",
     "text": [
      "[1, 2, 3, 4, 5, 6]\n"
     ]
    }
   ],
   "source": [
    "list1 = [1, 2, 3]\n",
    "list2 = [4, 5, 6]\n",
    "\n",
    "combined_list = [item for sublist in [list1, list2] for item in sublist]\n",
    "print(combined_list)\n"
   ]
  },
  {
   "cell_type": "markdown",
   "metadata": {},
   "source": [
    "### Question:\n",
    "Write a Python code that takes a list of strings as input and returns a new list containing only the strings with a length greater than 5."
   ]
  },
  {
   "cell_type": "code",
   "execution_count": 1,
   "metadata": {},
   "outputs": [
    {
     "name": "stdout",
     "output_type": "stream",
     "text": [
      "['banana', 'orange', 'grapefruit', 'watermelon']\n"
     ]
    }
   ],
   "source": [
    "def filter_strings_by_length(input_list):\n",
    "    return [string for string in input_list if len(string) > 5]\n",
    "input_list = [\"apple\", \"banana\", \"orange\", \"kiwi\", \"grapefruit\", \"pear\", \"watermelon\"]\n",
    "result_list = filter_strings_by_length(input_list)\n",
    "print(result_list)\n"
   ]
  },
  {
   "cell_type": "markdown",
   "metadata": {},
   "source": [
    "### Question:\n",
    "Create a Python dictionary `student` with the following key-value pairs: 'name' set to 'John', 'age' set to 25, and 'major' set to 'Computer Science'."
   ]
  },
  {
   "cell_type": "code",
   "execution_count": 4,
   "metadata": {},
   "outputs": [
    {
     "name": "stdout",
     "output_type": "stream",
     "text": [
      "{'name': 'John', 'age': 25, 'major': 'Computer Science'}\n"
     ]
    }
   ],
   "source": [
    "student = {\n",
    "    'name': 'John',\n",
    "    'age': 25,\n",
    "    'major': 'Computer Science'\n",
    "}\n",
    "\n",
    "print(student)\n"
   ]
  },
  {
   "cell_type": "markdown",
   "metadata": {},
   "source": [
    "### Question:\n",
    "Given the following dictionary `inventory = {'apples': 10, 'bananas': 5, 'oranges': 8}`, write Python code to check if the key 'grapes' is present in the dictionary.\n"
   ]
  },
  {
   "cell_type": "code",
   "execution_count": 6,
   "metadata": {},
   "outputs": [
    {
     "name": "stdout",
     "output_type": "stream",
     "text": [
      "No, 'grapes' is not present in the inventory dictionary.\n"
     ]
    }
   ],
   "source": [
    "inventory = {'apples': 10, 'bananas': 5, 'oranges': 8}\n",
    "\n",
    "if 'grapes' in inventory:\n",
    "    print(\"Yes, 'grapes' is present in the inventory dictionary.\")\n",
    "else:\n",
    "    print(\"No, 'grapes' is not present in the inventory dictionary.\")\n"
   ]
  },
  {
   "cell_type": "markdown",
   "metadata": {},
   "source": [
    "### Question:\n",
    "Write a Python code that takes a dictionary of items and their prices as input and returns the item with the highest price."
   ]
  },
  {
   "cell_type": "code",
   "execution_count": 12,
   "metadata": {},
   "outputs": [
    {
     "name": "stdout",
     "output_type": "stream",
     "text": [
      "Item with the highest price: orange\n"
     ]
    }
   ],
   "source": [
    "def get_item_with_highest_price(item_prices):\n",
    "    return max(item_prices, key=item_prices.get)\n",
    "items_prices = {'apple': 1.99, 'banana': 0.99, 'orange': 2.49, 'kiwi': 1.79}\n",
    "highest_priced_item = get_item_with_highest_price(items_prices)\n",
    "print(\"Item with the highest price:\", highest_priced_item)\n"
   ]
  },
  {
   "cell_type": "markdown",
   "metadata": {},
   "source": [
    "### Question:\n",
    "Suppose you have a dictionary `contacts` containing contact information. Write Python code to remove the contact with the key 'John' from the dictionary.\n"
   ]
  },
  {
   "cell_type": "code",
   "execution_count": null,
   "metadata": {},
   "outputs": [],
   "source": []
  },
  {
   "cell_type": "markdown",
   "metadata": {},
   "source": [
    "\n",
    "### Question:\n",
    "Write a Python code that takes a dictionary of words and their frequencies as input and returns a list of words sorted in alphabetical order."
   ]
  },
  {
   "cell_type": "code",
   "execution_count": null,
   "metadata": {},
   "outputs": [],
   "source": []
  },
  {
   "cell_type": "markdown",
   "metadata": {},
   "source": [
    "### Question:\n",
    "How can you convert a string `sentence` to all uppercase letters in Python?"
   ]
  },
  {
   "cell_type": "code",
   "execution_count": null,
   "metadata": {},
   "outputs": [],
   "source": []
  },
  {
   "cell_type": "markdown",
   "metadata": {},
   "source": [
    "### Question:\n",
    "Given a string `email = \"john.doe@example.com\"`, write Python code to extract the domain name 'example.com' from the email."
   ]
  },
  {
   "cell_type": "code",
   "execution_count": null,
   "metadata": {},
   "outputs": [],
   "source": []
  },
  {
   "cell_type": "markdown",
   "metadata": {},
   "source": [
    "### Question:\n",
    "Write a Python code that takes a string as input and returns a new string with all vowels replaced by the letter 'x'."
   ]
  },
  {
   "cell_type": "code",
   "execution_count": null,
   "metadata": {},
   "outputs": [],
   "source": []
  },
  {
   "cell_type": "markdown",
   "metadata": {},
   "source": [
    "### Question:\n",
    "Suppose you have a string `sentence = \"Python programming is fun!\"`. Write Python code to count the number of words in the sentence."
   ]
  },
  {
   "cell_type": "code",
   "execution_count": null,
   "metadata": {},
   "outputs": [],
   "source": []
  },
  {
   "cell_type": "markdown",
   "metadata": {},
   "source": [
    "### Question:\n",
    "Write a Python code that takes a list of words and a character as input and returns a new list with only the words that start with the given character."
   ]
  },
  {
   "cell_type": "code",
   "execution_count": null,
   "metadata": {},
   "outputs": [],
   "source": []
  },
  {
   "cell_type": "markdown",
   "metadata": {},
   "source": [
    "### Question:\n",
    "Write a Python code that takes a list of strings as input and returns a new list with the strings sorted in ascending order based on their lengths."
   ]
  },
  {
   "cell_type": "code",
   "execution_count": null,
   "metadata": {},
   "outputs": [],
   "source": []
  },
  {
   "cell_type": "markdown",
   "metadata": {},
   "source": [
    "### Question:\n",
    "Suppose you have a list `numbers = [3, 5, 1, 8, 2]`. Write Python code to find the sum of all the numbers in the list."
   ]
  },
  {
   "cell_type": "code",
   "execution_count": null,
   "metadata": {},
   "outputs": [],
   "source": []
  },
  {
   "cell_type": "markdown",
   "metadata": {},
   "source": [
    "### Question:\n",
    "Given a list `names = ['Alice', 'Bob', 'Charlie', 'David']`, write Python code to create a new list with the names that contain the letter 'a'."
   ]
  },
  {
   "cell_type": "code",
   "execution_count": null,
   "metadata": {},
   "outputs": [],
   "source": []
  },
  {
   "cell_type": "markdown",
   "metadata": {},
   "source": [
    "### Question:\n",
    "Write a Python code that takes a list of integers as input and returns a new list with only the unique elements (remove duplicates) in the same order they appear in the original list."
   ]
  },
  {
   "cell_type": "code",
   "execution_count": null,
   "metadata": {},
   "outputs": [],
   "source": []
  },
  {
   "cell_type": "markdown",
   "metadata": {},
   "source": [
    "### Question:\n",
    "Suppose you have a list `words = ['hello', 'world']`. Write Python code to join the elements of the list into a single string separated by a space."
   ]
  },
  {
   "cell_type": "code",
   "execution_count": null,
   "metadata": {},
   "outputs": [],
   "source": []
  },
  {
   "cell_type": "markdown",
   "metadata": {},
   "source": [
    "### Question:\n",
    "Write a Python code that takes two dictionaries as input and returns a new dictionary containing key-value pairs from both dictionaries. If a key exists in both dictionaries, the value from the second dictionary should overwrite the value from the first dictionary."
   ]
  },
  {
   "cell_type": "code",
   "execution_count": null,
   "metadata": {},
   "outputs": [],
   "source": []
  },
  {
   "cell_type": "markdown",
   "metadata": {},
   "source": [
    "### Question:\n",
    "Given the dictionary `scores = {'Alice': 85, 'Bob': 92, 'Charlie': 78}`, write Python code to find the student with the highest score."
   ]
  },
  {
   "cell_type": "code",
   "execution_count": null,
   "metadata": {},
   "outputs": [],
   "source": []
  },
  {
   "cell_type": "markdown",
   "metadata": {},
   "source": [
    "### Question:\n",
    "Write a Python code that takes a dictionary of words and their frequencies as input and returns a new dictionary with words as keys and their frequencies as values, but only for words with frequencies greater than 1."
   ]
  },
  {
   "cell_type": "code",
   "execution_count": null,
   "metadata": {},
   "outputs": [],
   "source": []
  },
  {
   "cell_type": "markdown",
   "metadata": {},
   "source": [
    "### Question:\n",
    "Suppose you have a nested dictionary representing a person's contact information:\n",
    "```python\n",
    "contact_info = {\n",
    "    'name': 'John Doe',\n",
    "    'phone': {\n",
    "        'home': '123-456-7890',\n",
    "        'work': '987-654-3210'\n",
    "    },\n",
    "    'email': 'john.doe@example.com'\n",
    "}\n",
    "```\n",
    "Write Python code to extract John's home phone number from the dictionary."
   ]
  },
  {
   "cell_type": "code",
   "execution_count": null,
   "metadata": {},
   "outputs": [],
   "source": []
  },
  {
   "cell_type": "markdown",
   "metadata": {},
   "source": [
    "### Question:\n",
    "Write a Python code that takes a dictionary of strings as input and returns a new dictionary with the strings sorted in alphabetical order based on their keys."
   ]
  },
  {
   "cell_type": "code",
   "execution_count": null,
   "metadata": {},
   "outputs": [],
   "source": []
  },
  {
   "cell_type": "markdown",
   "metadata": {},
   "source": [
    "### Question:\n",
    "Write a Python code that takes a string as input and returns the string reversed."
   ]
  },
  {
   "cell_type": "code",
   "execution_count": null,
   "metadata": {},
   "outputs": [],
   "source": []
  },
  {
   "cell_type": "markdown",
   "metadata": {},
   "source": [
    "### Question:\n",
    "Given a string `sentence = \"The quick brown fox jumps over the lazy dog.\"`, write Python code to count the number of occurrences of each word in the sentence (case-insensitive) and store them in a dictionary."
   ]
  },
  {
   "cell_type": "code",
   "execution_count": null,
   "metadata": {},
   "outputs": [],
   "source": []
  },
  {
   "cell_type": "markdown",
   "metadata": {},
   "source": [
    "### Question:\n",
    "Write a Python code that takes a string as input and returns the number of words in the string."
   ]
  },
  {
   "cell_type": "code",
   "execution_count": 11,
   "metadata": {},
   "outputs": [
    {
     "name": "stdout",
     "output_type": "stream",
     "text": [
      "Number of words: 6\n"
     ]
    }
   ],
   "source": [
    "def count_words(input_string):\n",
    "    words = input_string.split()\n",
    "    return len(words)\n",
    "\n",
    "\n",
    "input_string = \"Hello, how are you doing today?\"\n",
    "num_words = count_words(input_string)\n",
    "print(\"Number of words:\", num_words)\n"
   ]
  },
  {
   "cell_type": "markdown",
   "metadata": {},
   "source": [
    "### Question:\n",
    "Suppose you have a string `sentence = \"Apples are healthy, and oranges are delicious.\"`. Write Python code to find and extract the substring between the words 'Apples' and 'oranges'."
   ]
  },
  {
   "cell_type": "code",
   "execution_count": null,
   "metadata": {},
   "outputs": [],
   "source": []
  },
  {
   "cell_type": "markdown",
   "metadata": {},
   "source": [
    "\n",
    "### Question:\n",
    "Write a Python code that takes a string as input and returns a new string with all the punctuation marks removed."
   ]
  },
  {
   "cell_type": "code",
   "execution_count": null,
   "metadata": {},
   "outputs": [],
   "source": []
  },
  {
   "cell_type": "markdown",
   "metadata": {},
   "source": [
    "Thanks you"
   ]
  }
 ],
 "metadata": {
  "kernelspec": {
   "display_name": "base",
   "language": "python",
   "name": "python3"
  },
  "language_info": {
   "codemirror_mode": {
    "name": "ipython",
    "version": 3
   },
   "file_extension": ".py",
   "mimetype": "text/x-python",
   "name": "python",
   "nbconvert_exporter": "python",
   "pygments_lexer": "ipython3",
   "version": "3.10.10"
  },
  "orig_nbformat": 4
 },
 "nbformat": 4,
 "nbformat_minor": 2
}
