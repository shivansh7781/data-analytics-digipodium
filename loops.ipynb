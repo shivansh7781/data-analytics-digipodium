{
 "cells": [
  {
   "cell_type": "markdown",
   "metadata": {},
   "source": [
    "for\n"
   ]
  },
  {
   "cell_type": "markdown",
   "metadata": {},
   "source": [
    "'''\n",
    "for temp_var in iterable:\n",
    "statement 1\n",
    "...\n",
    "statement n\n",
    "\n",
    "iterables are string,list,tuple,set,dict,generators,etc."
   ]
  },
  {
   "cell_type": "code",
   "execution_count": 8,
   "metadata": {},
   "outputs": [
    {
     "name": "stdout",
     "output_type": "stream",
     "text": [
      "1\n",
      "529\n",
      "25\n",
      "36\n",
      "9\n",
      "36\n",
      "441\n",
      "36\n",
      "36\n"
     ]
    }
   ],
   "source": [
    "nums =[1,23,5,6,3,6,21,6,6]\n",
    "for i in nums:\n",
    "    print(i ** 2)"
   ]
  },
  {
   "cell_type": "code",
   "execution_count": 9,
   "metadata": {},
   "outputs": [
    {
     "name": "stdout",
     "output_type": "stream",
     "text": [
      "1\n",
      "529\n",
      "25\n",
      "36\n",
      "9\n",
      "36\n",
      "441\n",
      "36\n",
      "36\n"
     ]
    }
   ],
   "source": [
    "for nums in nums:\n",
    "    print(nums ** 2)"
   ]
  },
  {
   "cell_type": "markdown",
   "metadata": {},
   "source": [
    "-enumerate\n",
    "-zip"
   ]
  },
  {
   "cell_type": "code",
   "execution_count": 10,
   "metadata": {},
   "outputs": [
    {
     "name": "stdout",
     "output_type": "stream",
     "text": [
      "john 0\n",
      "jack 1\n",
      "rohan 2\n",
      "ram 3\n"
     ]
    }
   ],
   "source": [
    "names =['john','jack','rohan','ram']\n",
    "for idx,name in enumerate(names):\n",
    "    print(name,idx)"
   ]
  },
  {
   "cell_type": "code",
   "execution_count": 13,
   "metadata": {},
   "outputs": [
    {
     "name": "stdout",
     "output_type": "stream",
     "text": [
      "5\n",
      "34\n",
      "81\n",
      "145\n"
     ]
    }
   ],
   "source": [
    "x=[2,4,8,10]\n",
    "y=[1,7,9,13]\n",
    "z=[3,6,9,15]\n",
    "\n",
    "for i,j,k in zip(x,y,z):\n",
    "    print(i*j+k)"
   ]
  },
  {
   "cell_type": "code",
   "execution_count": 17,
   "metadata": {},
   "outputs": [
    {
     "name": "stdout",
     "output_type": "stream",
     "text": [
      "Mib                 8.6⭐\n",
      "mib2                8.0⭐\n",
      "soty                5.9⭐\n",
      "ddlj                9.0⭐\n"
     ]
    }
   ],
   "source": [
    "movies=['Mib','mib2','soty','ddlj']\n",
    "rating=[8.6,8.0,5.9,9.0]\n",
    "\n",
    "for name,star in zip(movies,rating):\n",
    "    print(f'{name:20}{star}⭐')"
   ]
  }
 ],
 "metadata": {
  "kernelspec": {
   "display_name": "base",
   "language": "python",
   "name": "python3"
  },
  "language_info": {
   "codemirror_mode": {
    "name": "ipython",
    "version": 3
   },
   "file_extension": ".py",
   "mimetype": "text/x-python",
   "name": "python",
   "nbconvert_exporter": "python",
   "pygments_lexer": "ipython3",
   "version": "3.10.10"
  },
  "orig_nbformat": 4
 },
 "nbformat": 4,
 "nbformat_minor": 2
}
